import pandas as pd
import numpy as np
import os
import warnings
warnings.filterwarnings('ignore')
import seaborn as sns
import matplotlib.pyplot as plt

SWE_TS = pd.read_csv('Daily_SWE_Upper.csv',index_col = 'time', parse_dates =True)

stations = ['SNOTEL','USCRN','SCAN','Ameriflux']

parent = '/Users/sghimi14/Dropbox (ASU)/Mac/Documents/Research/Linking_GriddedSnow_Updated_VWC/'
dataset = stations[3]  #Change accordinly 
soil_path = parent + dataset
files = os.listdir(soil_path)

soil_path = '/Users/sghimi14/Dropbox (ASU)/Mac/Documents/Research/Surface_SM_extract/SNOTEL/Daily data'
files = os.listdir(soil_path)
dataset = 'SNOTEL'

order_file = pd.read_csv('/Users/sghimi14/Dropbox (ASU)/Mac/Documents/Research/Linking snow and soil/SwevSoilcorr.csv')
station_order = order_file['SNOTEL stations'].values

corr_df = pd.DataFrame(columns=[f'{dataset} stations'])

for station in files:
    if station.endswith('.csv'):
        file_path = soil_path + '/' + station
        name = station.split('.')[0]
        soil_ts = pd.read_csv(file_path, index_col=0, parse_dates=True)
        total_soil = soil_ts.iloc[:,0]
        total_soil_month = total_soil.resample('M').mean()
        SWE_TS_month = SWE_TS.resample('M').mean()
        
        joined = pd.merge(left=SWE_TS_month, right=total_soil_month, left_index=True, right_index=True, how='inner')
        joined.dropna(inplace=True)
        
        row = {f'{dataset} stations': name}
        for i in range(0, 13):
            corr = joined.iloc[:, 0].corr(joined.iloc[:, 1].shift(-i))
            row[f'{int(i)}'] = corr
        
        corr_df = corr_df.append(row, ignore_index=True)
    
corr_df = corr_df.set_index(f'{dataset} stations')
corr_df.dropna(inplace = True)
corr_df = corr_df.sort_index(axis =0)
corr_df.columns = corr_df.columns.astype(int)
corr_df = corr_df.sort_index(axis =1)
corr_df = corr_df.reindex(station_order)


plt.figure(figsize=(12,12))
sns.heatmap(corr_df,cmap=sns.cubehelix_palette(as_cmap=True), annot_kws={"size": 2}, cbar_kws={"shrink": .8, "extend": 'both', "label": "Correlation Coefficient"})
plt.xlabel('Lag(months)', fontweight = 'bold')
plt.ylabel(f'{dataset} stations',fontweight = 'bold')
plt.title('Correlation between SWE and Soil Moisture for different lag periods(months)',loc = 'center', fontweight = 'bold',fontsize = 12)
#plt.savefig(f'SoilvSWE_Monthly_Lag_{dataset}.png', dpi=500, bbox_inches='tight')
plt.show
